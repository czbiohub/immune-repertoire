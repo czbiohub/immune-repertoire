{
 "cells": [
  {
   "cell_type": "code",
   "execution_count": 3,
   "metadata": {},
   "outputs": [
    {
     "name": "stdout",
     "output_type": "stream",
     "text": [
      "total 384K\n",
      "drwxrwxr-x 2 ubuntu ubuntu 4.0K Apr 24 21:34 .\n",
      "drwxrwxr-x 6 ubuntu ubuntu 4.0K Apr 24 21:34 ..\n",
      "-rw-rw-r-- 1 ubuntu ubuntu  20K Apr 24 21:34 BCR_C_all.fa\n",
      "-rw-rw-r-- 1 ubuntu ubuntu 3.0K Apr 24 21:34 BCR_C_all.fa.nhr\n",
      "-rw-rw-r-- 1 ubuntu ubuntu  912 Apr 24 21:34 BCR_C_all.fa.nin\n",
      "-rw-rw-r-- 1 ubuntu ubuntu  292 Apr 24 21:34 BCR_C_all.fa.nog\n",
      "-rw-rw-r-- 1 ubuntu ubuntu 1.8K Apr 24 21:34 BCR_C_all.fa.nsd\n",
      "-rw-rw-r-- 1 ubuntu ubuntu  114 Apr 24 21:34 BCR_C_all.fa.nsi\n",
      "-rw-rw-r-- 1 ubuntu ubuntu 4.7K Apr 24 21:34 BCR_C_all.fa.nsq\n",
      "-rw-rw-r-- 1 ubuntu ubuntu 1.7K Apr 24 21:34 BCR_D.fa\n",
      "-rw-rw-r-- 1 ubuntu ubuntu 2.2K Apr 24 21:34 BCR_D.fa.nhr\n",
      "-rw-rw-r-- 1 ubuntu ubuntu  660 Apr 24 21:34 BCR_D.fa.nin\n",
      "-rw-rw-r-- 1 ubuntu ubuntu  208 Apr 24 21:34 BCR_D.fa.nog\n",
      "-rw-rw-r-- 1 ubuntu ubuntu 1.6K Apr 24 21:34 BCR_D.fa.nsd\n",
      "-rw-rw-r-- 1 ubuntu ubuntu   93 Apr 24 21:34 BCR_D.fa.nsi\n",
      "-rw-rw-r-- 1 ubuntu ubuntu  292 Apr 24 21:34 BCR_D.fa.nsq\n",
      "-rw-rw-r-- 1 ubuntu ubuntu 1.8K Apr 24 21:34 BCR_J.fa\n",
      "-rw-rw-r-- 1 ubuntu ubuntu 1.5K Apr 24 21:34 BCR_J.fa.nhr\n",
      "-rw-rw-r-- 1 ubuntu ubuntu  516 Apr 24 21:34 BCR_J.fa.nin\n",
      "-rw-rw-r-- 1 ubuntu ubuntu  160 Apr 24 21:34 BCR_J.fa.nog\n",
      "-rw-rw-r-- 1 ubuntu ubuntu  876 Apr 24 21:34 BCR_J.fa.nsd\n",
      "-rw-rw-r-- 1 ubuntu ubuntu   63 Apr 24 21:34 BCR_J.fa.nsi\n",
      "-rw-rw-r-- 1 ubuntu ubuntu  374 Apr 24 21:34 BCR_J.fa.nsq\n",
      "-rw-rw-r-- 1 ubuntu ubuntu 167K Apr 24 21:34 BCR_V.fa\n",
      "-rw-rw-r-- 1 ubuntu ubuntu  28K Apr 24 21:34 BCR_V.fa.nhr\n",
      "-rw-rw-r-- 1 ubuntu ubuntu 6.6K Apr 24 21:34 BCR_V.fa.nin\n",
      "-rw-rw-r-- 1 ubuntu ubuntu 2.2K Apr 24 21:34 BCR_V.fa.nog\n",
      "-rw-rw-r-- 1 ubuntu ubuntu  20K Apr 24 21:34 BCR_V.fa.nsd\n",
      "-rw-rw-r-- 1 ubuntu ubuntu  513 Apr 24 21:34 BCR_V.fa.nsi\n",
      "-rw-rw-r-- 1 ubuntu ubuntu  40K Apr 24 21:34 BCR_V.fa.nsq\n"
     ]
    }
   ],
   "source": [
    "! ls -lha /mnt/data/bracer/resources/Hsap/igblast_dbs/"
   ]
  },
  {
   "cell_type": "code",
   "execution_count": 4,
   "metadata": {},
   "outputs": [
    {
     "name": "stdout",
     "output_type": "stream",
     "text": [
      "olgabot-igrec-m4.biohub.org\n"
     ]
    }
   ],
   "source": [
    "! hostname"
   ]
  },
  {
   "cell_type": "markdown",
   "metadata": {},
   "source": [
    "\n",
    "How BRACER runs blast\n",
    "\n",
    "```python\n",
    "        if os.path.isfile(trinity_fasta):\n",
    "            command = [blast, '-db', database, '-evalue', '0.001', \n",
    "                      '-num_alignments', '1', '-outfmt', '5', '-query', \n",
    "                      trinity_fasta]\n",
    "                            \n",
    "            blast_out = \"{}/BLAST_output/{}_{}.xml\".format(output_dir, \n",
    "                                                    cell_name, locus)\n",
    "\n",
    "            with open(blast_out, 'w') as out:\n",
    "                subprocess.check_call(command, stdout=out)\n",
    "```                "
   ]
  },
  {
   "cell_type": "code",
   "execution_count": 5,
   "metadata": {},
   "outputs": [],
   "source": [
    "database = '/mnt/data/bracer/resources/Hsap/igblast_dbs/BCR_C_all.fa'"
   ]
  },
  {
   "cell_type": "code",
   "execution_count": 6,
   "metadata": {},
   "outputs": [],
   "source": [
    "! which blast"
   ]
  },
  {
   "cell_type": "code",
   "execution_count": null,
   "metadata": {},
   "outputs": [],
   "source": []
  },
  {
   "cell_type": "code",
   "execution_count": 7,
   "metadata": {},
   "outputs": [
    {
     "name": "stdout",
     "output_type": "stream",
     "text": [
      "total 18G\n",
      "-rw-rw-r--  1 ubuntu ubuntu 654M Mar 27 18:30 BX_genotyped6f.tab\n",
      "-rw-rw-r--  1 ubuntu ubuntu 925M Mar 27 18:30 BX_genotyped5.tab\n",
      "-rw-rw-r--  1 ubuntu ubuntu 1.3G Mar 27 18:30 BX_genotyped4f.tab\n",
      "-rw-rw-r--  1 ubuntu ubuntu 901M Mar 27 18:30 BX_clone-pass5.tab\n",
      "-rw-rw-r--  1 ubuntu ubuntu 5.2K Mar 27 18:36 ChangeoV3.7_Clone.sh\n",
      "-rw-rw-r--  1 ubuntu ubuntu 1.1G Mar 27 18:36 BX_germ-pass5.tab\n",
      "-rw-rw-r--  1 ubuntu ubuntu 4.2M Mar 27 18:36 log_files.tar.gz\n",
      "-rw-rw-r--  1 ubuntu ubuntu 648M Mar 29 18:27 BX_clone-pass6.tab\n",
      "-rw-rw-r--  1 ubuntu ubuntu 2.5G Mar 29 18:28 BX-final_collapse-unique_atleast-5.fmt7\n",
      "-rw-rw-r--  1 ubuntu ubuntu 256M Mar 29 18:32 BX-final_collapse-unique_atleast-5.fasta\n",
      "-rw-rw-r--  1 ubuntu ubuntu 3.4G Mar 29 18:32 BX-final_collapse-unique_atleast-4.fmt7\n",
      "-rw-rw-r--  1 ubuntu ubuntu 348M Mar 29 18:37 BX-final_collapse-unique_atleast-4.fasta\n",
      "-rw-rw-r--  1 ubuntu ubuntu 1.8G Mar 29 18:38 BX-final_collapse-unique_atleast-6.fmt7\n",
      "-rw-rw-r--  1 ubuntu ubuntu 187M Mar 29 18:40 BX-final_collapse-unique_atleast-6.fasta\n",
      "-rw-rw-r--  1 ubuntu ubuntu 452M Mar 29 18:50 BX_genotyped6.tab1.tab\n",
      "-rw-rw-r--  1 ubuntu ubuntu 519M Mar 29 18:51 BX_genotyped6.tab0.tab\n",
      "-rw-rw-r--  1 ubuntu ubuntu 1.3G Mar 29 18:52 BX_genotyped4.tab\n",
      "-rw-rw-r--  1 ubuntu ubuntu 1.3G Mar 29 18:54 BX_db-pass4.tab\n",
      "-rw-rw-r--  1 ubuntu ubuntu 913M Mar 29 18:56 BX_db-pass5.tab\n",
      "drwxrwxr-x  2 ubuntu ubuntu 4.0K Apr  2 19:26 .\n",
      "drwxr-xr-x 15 ubuntu root   232K Apr 24 21:40 ..\n"
     ]
    }
   ],
   "source": [
    "! ls -lhaStr /mnt/data/changeo/"
   ]
  },
  {
   "cell_type": "code",
   "execution_count": 8,
   "metadata": {},
   "outputs": [
    {
     "name": "stdout",
     "output_type": "stream",
     "text": [
      "total 256G\n",
      "-rw-r--r-- 1 ubuntu ubuntu  15G Mar 14 22:07 BX-R1_quality-pass.fastq\n",
      "-rw-r--r-- 1 ubuntu ubuntu  15G Mar 15 01:11 BX-R2_quality-pass.fastq\n",
      "-rw-r--r-- 1 ubuntu ubuntu  12G Mar 15 03:22 BX-R1_primers-pass.fastq\n",
      "-rw-r--r-- 1 ubuntu ubuntu 9.4G Mar 15 05:19 BX-R2_primers-pass.fastq\n",
      "-rw-r--r-- 1 ubuntu ubuntu 8.2G Mar 15 07:00 BX-R2_primers-pass_pair-pass.fastq\n",
      "-rw-r--r-- 1 ubuntu ubuntu 8.1G Mar 15 07:00 BX-R1_primers-pass_pair-pass.fastq\n",
      "-rw-r--r-- 1 ubuntu ubuntu 8.1G Mar 15 07:26 BX-R1_primers-pass_pair-pass_reheader.fastq\n",
      "-rw-r--r-- 1 ubuntu ubuntu 8.2G Mar 15 07:54 BX-R2_primers-pass_pair-pass_reheader.fastq\n",
      "-rw-r--r-- 1 ubuntu ubuntu 4.7G Mar 15 09:31 BX-R1_consensus-pass.fastq\n",
      "-rw-r--r-- 1 ubuntu ubuntu 4.7G Mar 15 11:15 BX-R2_consensus-pass.fastq\n",
      "-rw-r--r-- 1 ubuntu ubuntu 4.7G Mar 15 12:00 BX-R2_consensus-pass_pair-pass.fastq\n",
      "-rw-r--r-- 1 ubuntu ubuntu 4.7G Mar 15 12:00 BX-R1_consensus-pass_pair-pass.fastq\n",
      "-rw-r--r-- 1 ubuntu ubuntu 7.0G Mar 15 19:25 BX_assemble-pass.fastq\n",
      "-rw-r--r-- 1 ubuntu ubuntu 4.9G Mar 15 20:47 BX-final_collapse-unique_under-2.fastq\n",
      "-rw-rw-r-- 1 ubuntu ubuntu  11G Mar 27 16:38 log_files.tar.gz\n",
      "-rw-rw-r-- 1 ubuntu ubuntu 6.9G Mar 27 16:38 BX-final_total.fastq\n",
      "-rw-rw-r-- 1 ubuntu ubuntu 6.0G Mar 27 16:38 BX-final_collapse-unique.fastq\n",
      "-rw-rw-r-- 1 ubuntu ubuntu 1.2G Mar 27 16:38 BX-final_collapse-unique_atleast-2.fastq\n",
      "-rw-rw-r-- 1 ubuntu ubuntu 112G Mar 27 17:25 temp_files.tar\n",
      "-rw-rw-r-- 1 ubuntu ubuntu 6.0G Mar 29 18:08 BX-final_collapse-unique_031618.fastq\n",
      "-rw-rw-r-- 1 ubuntu ubuntu 479M Mar 29 18:22 BX-final_collapse-unique_atleast-5.fastq\n",
      "-rw-rw-r-- 1 ubuntu ubuntu 350M Mar 29 18:23 BX-final_collapse-unique_atleast-6.fastq\n",
      "-rw-rw-r-- 1 ubuntu ubuntu 652M Mar 29 18:24 BX-final_collapse-unique_atleast-4.fastq\n",
      "drwxrwxr-x 2 ubuntu ubuntu 4.0K Apr  2 19:32 report\n",
      "drwxrwxr-x 3 ubuntu ubuntu 4.0K Apr  2 19:32 ..\n",
      "drwxrwxr-x 2 ubuntu ubuntu 4.0K Apr  2 19:32 logs\n",
      "-rw-rw-r-- 1 ubuntu ubuntu  135 Apr 12 18:20 first_three_reads.txt\n",
      "-rw-rw-r-- 1 ubuntu ubuntu 2.0K Apr 12 18:27 BX-R1_primers-pass_pair-pass_first3.fastq\n",
      "drwxrwxr-x 4 ubuntu ubuntu 4.0K Apr 12 18:27 .\n"
     ]
    }
   ],
   "source": [
    "! ls -lhaStr /mnt/data/presto/output"
   ]
  },
  {
   "cell_type": "code",
   "execution_count": 9,
   "metadata": {},
   "outputs": [],
   "source": [
    "# fasta = '/mnt/data/presto/output/BX-final_collapse-unique_atleast-4.fastq'\n",
    "fasta = '/mnt/data/changeo/BX-final_collapse-unique_atleast-6.fasta'"
   ]
  },
  {
   "cell_type": "code",
   "execution_count": 12,
   "metadata": {},
   "outputs": [
    {
     "name": "stdout",
     "output_type": "stream",
     "text": [
      "mkdir: cannot create directory ‘/mnt/data/isotype_blast’: File exists\n",
      "mkdir: cannot create directory ‘/mnt/data/isotype_blast/BLAST_output’: File exists\n",
      "blast_out: /mnt/data/isotype_blast/BLAST_output/BX_C.xml\n",
      "/mnt/data/anaconda/bin//blastn -db /mnt/data/bracer/resources/Hsap/igblast_dbs/BCR_C_all.fa -evalue 0.001 -num_alignments 1 -outfmt 5 -num_threads 16 -query /mnt/data/changeo/BX-final_collapse-unique_atleast-6.fasta\n"
     ]
    }
   ],
   "source": [
    "import subprocess \n",
    "\n",
    "blast = '/mnt/data/anaconda/bin//blastn'\n",
    "\n",
    "cell_name = 'BX'\n",
    "\n",
    "locus = \"C\"\n",
    "\n",
    "output_dir = '/mnt/data/isotype_blast'\n",
    "! mkdir $output_dir\n",
    "\n",
    "command = [blast, '-db', database, '-evalue', '0.001', \n",
    "                      '-num_alignments', '1', '-outfmt', '5',\n",
    "                      '-num_threads', '16',\n",
    "\n",
    "           '-query', \n",
    "                      fasta]\n",
    "\n",
    "blast_out = \"{}/BLAST_output/{}_{}.xml\".format(output_dir, \n",
    "                                        cell_name, locus)\n",
    "!mkdir $(dirname $blast_out)\n",
    "\n",
    "print('blast_out:', blast_out)\n",
    "print(' '.join(command))\n",
    "# with open(blast_out, 'w') as out:\n",
    "#     subprocess.check_call(command, stdout=out)"
   ]
  },
  {
   "cell_type": "markdown",
   "metadata": {},
   "source": [
    "### Parse BLAST output"
   ]
  },
  {
   "cell_type": "code",
   "execution_count": 2,
   "metadata": {},
   "outputs": [],
   "source": [
    "from bracerlib.io import parse_BLAST"
   ]
  },
  {
   "cell_type": "markdown",
   "metadata": {},
   "source": [
    "How the input file is created:\n",
    "\n",
    "```python\n",
    "input_file = \"{output_dir}/{blast_dir}/{cell_name}_BCR_{locus}.xml\".format(\n",
    "                      output_dir=output_dir, blast_dir=blast_dir, cell_name=cell_name, \n",
    "                      locus=locus)\n",
    "```                      "
   ]
  },
  {
   "cell_type": "code",
   "execution_count": 13,
   "metadata": {},
   "outputs": [],
   "source": [
    "! cp '/mnt/data/isotype_blast/BLAST_output/BX_C.xml' '/mnt/data/isotype_blast/BLAST_output/BX_BCR_C.xml'\n",
    "\n",
    "\n",
    "loci = \"C\"\n",
    "output_dir = '/mnt/data/isotype_blast/'\n",
    "cell_name = 'BX'\n",
    "species = 'Mmus'\n",
    "assembled_file = False\n",
    "\n",
    "parse_BLAST(loci, output_dir, cell_name, species, assembled_file)"
   ]
  },
  {
   "cell_type": "code",
   "execution_count": 15,
   "metadata": {},
   "outputs": [
    {
     "name": "stdout",
     "output_type": "stream",
     "text": [
      "total 1.5G\n",
      "drwxrwxr-x 2 ubuntu ubuntu 4.0K Apr 24 23:48 \u001b[0m\u001b[01;34m.\u001b[0m/\n",
      "drwxrwxr-x 3 ubuntu ubuntu 4.0K Apr 24 21:40 \u001b[01;34m..\u001b[0m/\n",
      "-rw-rw-r-- 1 ubuntu ubuntu 123M Apr 24 23:49 blastsummary_C.txt\n",
      "-rw-rw-r-- 1 ubuntu ubuntu 689M Apr 24 23:48 BX_BCR_C.xml\n",
      "-rw-rw-r-- 1 ubuntu ubuntu    0 Apr 24 23:39 BX_C_felix.xml\n",
      "-rw-rw-r-- 1 ubuntu ubuntu 689M Apr 24 22:16 BX_C.xml\n"
     ]
    }
   ],
   "source": [
    "ls -lha /mnt/data/isotype_blast/BLAST_output"
   ]
  },
  {
   "cell_type": "code",
   "execution_count": 17,
   "metadata": {},
   "outputs": [
    {
     "name": "stdout",
     "output_type": "stream",
     "text": [
      "------------------\n",
      "##BX##\n",
      "------------------\n",
      "\n",
      "#BCR_C#\n",
      "\n",
      "##GCCGTCGACGTCTTCA|PRCONS=RT_IgM_long_8N|CONSCOUNT=6|DUPCOUNT=1##\n",
      "C segment:\tIGHM*03\n",
      "\n",
      "Segment\tquery_id\tsubject_id\t% identity\talignment length\tmismatches\tgap opens\tgaps\tq start\tq end\ts start\ts end\tevalue\tbit score\n",
      "C\tGCCGTCGACGTCTTCA|PRCONS=RT_IgM_long_8N|CONSCOUNT=6|DUPCOUNT=1\tIGHM*03\t100.00\t84\t0\tNA\t0\t349\t432\t1\t84\t7e-41\t156.239\n",
      "\n",
      "##TGTGGCTATGAGCTGG|PRCONS=RT_IgM_long_12N|CONSCOUNT=11|DUPCOUNT=4##\n",
      "C segment:\tIGHM*03\n",
      "\n",
      "Segment\tquery_id\tsubject_id\t% identity\talignment length\tmismatches\tgap opens\tgaps\tq start\tq end\ts start\ts end\tevalue\tbit score\n",
      "C\tTGTGGCTATGAGCTGG|PRCONS=RT_IgM_long_12N|CONSCOUNT=11|DUPCOUNT=4\tIGHM*03\t100.00\t84\t0\tNA\t0\t354\t437\t1\t84\t7e-41\t156.239\n",
      "\n",
      "##TATCTATTCTGAACGT|PRCONS=RT_IgA_12N|CONSCOUNT=11|DUPCOUNT=1##\n",
      "C segment:\tIGHA2*01\n"
     ]
    }
   ],
   "source": [
    "! head -n 20 /mnt/data/isotype_blast/BLAST_output/blastsummary_C.txt"
   ]
  },
  {
   "cell_type": "code",
   "execution_count": 24,
   "metadata": {},
   "outputs": [],
   "source": [
    "! grep -P '^C(?! segment)' /mnt/data/isotype_blast/BLAST_output/blastsummary_C.txt  > /mnt/data/isotype_blast/BLAST_output/blastsummary_C_table_only.txt"
   ]
  },
  {
   "cell_type": "code",
   "execution_count": 25,
   "metadata": {},
   "outputs": [],
   "source": [
    "import pandas as pd"
   ]
  },
  {
   "cell_type": "code",
   "execution_count": 28,
   "metadata": {},
   "outputs": [
    {
     "data": {
      "text/plain": [
       "['Segment',\n",
       " 'query_id',\n",
       " 'subject_id',\n",
       " '% identity',\n",
       " 'alignment length',\n",
       " 'mismatches',\n",
       " 'gap opens',\n",
       " 'gaps',\n",
       " 'q start',\n",
       " 'q end',\n",
       " 's start',\n",
       " 's end',\n",
       " 'evalue',\n",
       " 'bit score']"
      ]
     },
     "execution_count": 28,
     "metadata": {},
     "output_type": "execute_result"
    }
   ],
   "source": [
    "names = 'Segment\tquery_id\tsubject_id\t% identity\talignment length\tmismatches\tgap opens\tgaps\tq start\tq end\ts start\ts end\tevalue\tbit score'.split('\\t')\n",
    "names"
   ]
  },
  {
   "cell_type": "code",
   "execution_count": 31,
   "metadata": {},
   "outputs": [],
   "source": [
    "pd.options.display.max_colwidth = 100"
   ]
  },
  {
   "cell_type": "code",
   "execution_count": 59,
   "metadata": {},
   "outputs": [
    {
     "name": "stdout",
     "output_type": "stream",
     "text": [
      "(386058, 14)\n",
      "       Segment                                                    query_id  \\\n",
      "293          C   GTATTATTTTTTGCGT|PRCONS=RT_IgA_12N|CONSCOUNT=9|DUPCOUNT=1   \n",
      "416          C  CCATCTTATTCTTGCC|PRCONS=RT_IgA_08N|CONSCOUNT=12|DUPCOUNT=1   \n",
      "495          C   CGGTTACCCGAATCGG|PRCONS=RT_IgA_12N|CONSCOUNT=6|DUPCOUNT=2   \n",
      "1305         C   ATGTTGGTGACTGGAT|PRCONS=RT_IgA_12N|CONSCOUNT=7|DUPCOUNT=1   \n",
      "1306         C   CTAACTCATTTTAAGA|PRCONS=RT_IgG_08N|CONSCOUNT=6|DUPCOUNT=1   \n",
      "2450         C   CCCTTTATCAACTCCA|PRCONS=RT_IgA_12N|CONSCOUNT=7|DUPCOUNT=1   \n",
      "2518         C   CTTTGAGGATCTTCAC|PRCONS=RT_IgG_12N|CONSCOUNT=6|DUPCOUNT=2   \n",
      "2846         C   ATGGCCTCAGTTACCC|PRCONS=RT_IgA_12N|CONSCOUNT=6|DUPCOUNT=1   \n",
      "3080         C   AAACACGGTGGTTTGG|PRCONS=RT_IgG_08N|CONSCOUNT=7|DUPCOUNT=1   \n",
      "3265         C   CGTATTCCATAGTGAG|PRCONS=RT_IgA_12N|CONSCOUNT=7|DUPCOUNT=1   \n",
      "3319         C   GCTCGGTGCGAACAAA|PRCONS=RT_IgA_12N|CONSCOUNT=7|DUPCOUNT=1   \n",
      "3647         C   AACTTGCTACGAACAT|PRCONS=RT_IgA_12N|CONSCOUNT=6|DUPCOUNT=1   \n",
      "3907         C   CGTACTTAGGAGATTT|PRCONS=RT_IgA_08N|CONSCOUNT=6|DUPCOUNT=1   \n",
      "4301         C   CTTCACCCTTAGAACC|PRCONS=RT_IgG_12N|CONSCOUNT=9|DUPCOUNT=1   \n",
      "4389         C   CGTTAGCGTTCGCGTA|PRCONS=RT_IgA_12N|CONSCOUNT=6|DUPCOUNT=1   \n",
      "5023         C  TGGCTATACTGTTCAG|PRCONS=RT_IgA_12N|CONSCOUNT=12|DUPCOUNT=2   \n",
      "5196         C   TCACCGAATAATGCAA|PRCONS=RT_IgA_08N|CONSCOUNT=7|DUPCOUNT=1   \n",
      "5316         C   ATGCGTGTTACACAGC|PRCONS=RT_IgA_12N|CONSCOUNT=7|DUPCOUNT=2   \n",
      "5475         C  CGAACTTACTAACCTG|PRCONS=RT_IgA_12N|CONSCOUNT=24|DUPCOUNT=4   \n",
      "5600         C   CCTGCTGTCAAACGTT|PRCONS=RT_IgA_12N|CONSCOUNT=9|DUPCOUNT=1   \n",
      "6078         C   ATGGCGCCAAAGGTCA|PRCONS=RT_IgA_12N|CONSCOUNT=7|DUPCOUNT=1   \n",
      "6197         C   TGCAATCGGGTCTATG|PRCONS=RT_IgG_12N|CONSCOUNT=7|DUPCOUNT=1   \n",
      "7934         C   TCGTGGCCAGCCCAGT|PRCONS=RT_IgA_08N|CONSCOUNT=6|DUPCOUNT=1   \n",
      "8638         C   GCCGTTTGTTTTCCTC|PRCONS=RT_IgA_08N|CONSCOUNT=9|DUPCOUNT=1   \n",
      "8834         C   GAAATGTATAAACCCA|PRCONS=RT_IgA_12N|CONSCOUNT=6|DUPCOUNT=1   \n",
      "9916         C   GCGGAATCAAGGGACT|PRCONS=RT_IgA_12N|CONSCOUNT=6|DUPCOUNT=1   \n",
      "10481        C  CTCTTCCGATATGTGC|PRCONS=RT_IgG_08N|CONSCOUNT=10|DUPCOUNT=2   \n",
      "10577        C   ACCCCAAGAAAATTAA|PRCONS=RT_IgA_08N|CONSCOUNT=7|DUPCOUNT=1   \n",
      "11063        C   TTGGCCTGCCTTCGGG|PRCONS=RT_IgA_12N|CONSCOUNT=9|DUPCOUNT=1   \n",
      "11247        C   ATTGTCCCTGCCGTCT|PRCONS=RT_IgA_08N|CONSCOUNT=6|DUPCOUNT=1   \n",
      "...        ...                                                         ...   \n",
      "376330       C   TTCTACACAAGGCTCG|CONSCOUNT=8|PRCONS=RT_IgG_08N|DUPCOUNT=1   \n",
      "376412       C  TCAACCAAACCCATTT|CONSCOUNT=11|PRCONS=RT_IgA_08N|DUPCOUNT=1   \n",
      "376540       C  ACATATATTTCCTAAC|CONSCOUNT=20|PRCONS=RT_IgA_12N|DUPCOUNT=1   \n",
      "377384       C   CTCTACACCCGACACT|CONSCOUNT=7|PRCONS=RT_IgA_12N|DUPCOUNT=1   \n",
      "377496       C   GTACACTCAAGGTAAC|CONSCOUNT=7|PRCONS=RT_IgA_12N|DUPCOUNT=1   \n",
      "378048       C   GTCTCTTGCGCCGACA|CONSCOUNT=6|PRCONS=RT_IgA_12N|DUPCOUNT=1   \n",
      "378132       C   ACTGTTGGCCTTATAC|CONSCOUNT=7|PRCONS=RT_IgA_12N|DUPCOUNT=1   \n",
      "378444       C  TTACCGGAGTCTGGAT|CONSCOUNT=15|PRCONS=RT_IgA_12N|DUPCOUNT=1   \n",
      "378882       C   GATCTTTAAACTACAA|CONSCOUNT=6|PRCONS=RT_IgA_12N|DUPCOUNT=1   \n",
      "379292       C  GCCTTTATTCTAGATG|CONSCOUNT=27|PRCONS=RT_IgA_08N|DUPCOUNT=1   \n",
      "379920       C   GGACCCGCGGGCAAAG|CONSCOUNT=7|PRCONS=RT_IgA_12N|DUPCOUNT=1   \n",
      "380125       C   GTTCGAGGCTATTTAC|CONSCOUNT=8|PRCONS=RT_IgA_12N|DUPCOUNT=1   \n",
      "380398       C   GGGCTCTCTCTACTTA|CONSCOUNT=7|PRCONS=RT_IgA_12N|DUPCOUNT=1   \n",
      "380953       C   GACAGCCTACGAGTCA|CONSCOUNT=6|PRCONS=RT_IgG_12N|DUPCOUNT=1   \n",
      "381681       C  GGCAACCTGGAGCGCT|CONSCOUNT=19|PRCONS=RT_IgA_12N|DUPCOUNT=1   \n",
      "381766       C  TAGAGACACGAGACAT|CONSCOUNT=16|PRCONS=RT_IgA_12N|DUPCOUNT=1   \n",
      "381772       C   CTGCAAACAAATTGTC|CONSCOUNT=6|PRCONS=RT_IgG_12N|DUPCOUNT=1   \n",
      "382078       C   TCATTCCATGCGATAG|CONSCOUNT=7|PRCONS=RT_IgA_12N|DUPCOUNT=1   \n",
      "382515       C  AGGGTATAAGTAGGAC|CONSCOUNT=12|PRCONS=RT_IgA_12N|DUPCOUNT=1   \n",
      "382542       C   ATTTGTGTAATCATCA|CONSCOUNT=6|PRCONS=RT_IgA_12N|DUPCOUNT=1   \n",
      "382609       C   ACTTTTTCATGCATGA|CONSCOUNT=6|PRCONS=RT_IgA_12N|DUPCOUNT=1   \n",
      "382687       C   GCCATAGTAATCCCGT|CONSCOUNT=7|PRCONS=RT_IgA_08N|DUPCOUNT=1   \n",
      "383157       C   AGCGTGTCCGGGTCAG|CONSCOUNT=6|PRCONS=RT_IgA_12N|DUPCOUNT=1   \n",
      "383334       C   AGACCCGTTCTATGGG|CONSCOUNT=7|PRCONS=RT_IgA_12N|DUPCOUNT=1   \n",
      "383440       C  GTAACCGCCTGACGAT|CONSCOUNT=25|PRCONS=RT_IgA_12N|DUPCOUNT=1   \n",
      "383793       C   TGCGCGTCGATCTACG|CONSCOUNT=7|PRCONS=RT_IgA_08N|DUPCOUNT=1   \n",
      "384809       C   CCGCGAATCAATGATC|CONSCOUNT=8|PRCONS=RT_IgA_12N|DUPCOUNT=1   \n",
      "385458       C   AGTCTTGCAACTGAGT|CONSCOUNT=7|PRCONS=RT_IgA_12N|DUPCOUNT=1   \n",
      "385570       C   CTGCTTAATTGCGTTT|CONSCOUNT=6|PRCONS=RT_IgA_12N|DUPCOUNT=1   \n",
      "386053       C   TTGTACGTATAGTTGA|CONSCOUNT=8|PRCONS=RT_IgA_12N|DUPCOUNT=1   \n",
      "\n",
      "       subject_id  % identity  alignment length  mismatches  gap opens  gaps  \\\n",
      "293       IGHM*03      100.00                87           0        NaN     0   \n",
      "416       IGHD*02      100.00                72           0        NaN     0   \n",
      "495       IGHM*03      100.00                87           0        NaN     0   \n",
      "1305      IGHM*03      100.00                87           0        NaN     0   \n",
      "1306     IGHA1*01      100.00                79           0        NaN     0   \n",
      "2450      IGHM*03      100.00                87           0        NaN     0   \n",
      "2518      IGHD*02      100.00                70           0        NaN     0   \n",
      "2846      IGHM*03      100.00                87           0        NaN     0   \n",
      "3080     IGHA2*01      100.00                79           0        NaN     0   \n",
      "3265     IGHG3*15      100.00                84           0        NaN     0   \n",
      "3319      IGHM*03      100.00                87           0        NaN     0   \n",
      "3647      IGHM*03      100.00                87           0        NaN     0   \n",
      "3907      IGHD*02      100.00                78           0        NaN     0   \n",
      "4301     IGHA1*01      100.00                79           0        NaN     0   \n",
      "4389      IGHM*03      100.00                87           0        NaN     0   \n",
      "5023      IGHD*02      100.00                72           0        NaN     0   \n",
      "5196      IGHD*02      100.00                72           0        NaN     0   \n",
      "5316     IGHG1*01      100.00                83           0        NaN     0   \n",
      "5475     IGHG1*01      100.00                84           0        NaN     0   \n",
      "5600     IGHG2*02      100.00                84           0        NaN     0   \n",
      "6078      IGHM*03      100.00                87           0        NaN     0   \n",
      "6197     IGHA1*01      100.00                79           0        NaN     0   \n",
      "7934      IGHM*03      100.00                87           0        NaN     0   \n",
      "8638      IGHD*02      100.00                78           0        NaN     0   \n",
      "8834      IGHM*03      100.00                87           0        NaN     0   \n",
      "9916      IGHM*03      100.00                87           0        NaN     0   \n",
      "10481    IGHA1*01      100.00                79           0        NaN     0   \n",
      "10577     IGHD*02      100.00                72           0        NaN     0   \n",
      "11063     IGHM*03      100.00                87           0        NaN     0   \n",
      "11247    IGHG1*01      100.00                84           0        NaN     0   \n",
      "...           ...         ...               ...         ...        ...   ...   \n",
      "376330    IGHD*02      100.00                70           0        NaN     0   \n",
      "376412    IGHD*02      100.00                78           0        NaN     0   \n",
      "376540    IGHD*02      100.00                76           0        NaN     0   \n",
      "377384    IGHM*03       98.85                87           1        NaN     0   \n",
      "377496   IGHG2*02      100.00                84           0        NaN     0   \n",
      "378048    IGHD*02      100.00                72           0        NaN     0   \n",
      "378132    IGHM*03      100.00                87           0        NaN     0   \n",
      "378444   IGHG3*15       99.06               106           1        NaN     1   \n",
      "378882   IGHG1*01      100.00                84           0        NaN     0   \n",
      "379292    IGHD*02      100.00                76           0        NaN     0   \n",
      "379920    IGHM*03      100.00                87           0        NaN     0   \n",
      "380125    IGHM*03      100.00               103           0        NaN     0   \n",
      "380398    IGHM*03       98.85                87           1        NaN     0   \n",
      "380953   IGHA2*01       98.73                79           1        NaN     0   \n",
      "381681    IGHM*03      100.00               103           0        NaN     0   \n",
      "381766    IGHM*03      100.00               104           0        NaN     0   \n",
      "381772   IGHA1*01      100.00                79           0        NaN     0   \n",
      "382078   IGHG3*15       98.81                84           1        NaN     0   \n",
      "382515    IGHD*02      100.00                72           0        NaN     0   \n",
      "382542    IGHM*03      100.00                87           0        NaN     0   \n",
      "382609    IGHM*03      100.00                87           0        NaN     0   \n",
      "382687   IGHG1*01       98.81                84           1        NaN     0   \n",
      "383157    IGHM*03      100.00                85           0        NaN     0   \n",
      "383334   IGHG2*02      100.00                84           0        NaN     0   \n",
      "383440    IGHD*02      100.00                76           0        NaN     0   \n",
      "383793    IGHD*02       98.70                77           1        NaN     0   \n",
      "384809   IGHG1*01      100.00                84           0        NaN     0   \n",
      "385458    IGHM*03      100.00                87           0        NaN     0   \n",
      "385570    IGHM*03      100.00                87           0        NaN     0   \n",
      "386053    IGHM*03      100.00                87           0        NaN     0   \n",
      "\n",
      "        q start  q end  s start  s end        evalue  bit score      primer  \\\n",
      "293         319    405        1     87  1.000000e-42    161.779  RT_IgA_12N   \n",
      "416         357    428        1     72  3.000000e-34    134.079  RT_IgA_08N   \n",
      "495         358    444        1     87  2.000000e-42    161.779  RT_IgA_12N   \n",
      "1305        343    429        1     87  1.000000e-42    161.779  RT_IgA_12N   \n",
      "1306        346    424        1     79  4.000000e-38    147.006  RT_IgG_08N   \n",
      "2450        346    432        1     87  1.000000e-42    161.779  RT_IgA_12N   \n",
      "2518        367    436        1     70  4.000000e-33    130.386  RT_IgG_12N   \n",
      "2846        348    434        1     87  2.000000e-42    161.779  RT_IgA_12N   \n",
      "3080        354    432        1     79  4.000000e-38    147.006  RT_IgG_08N   \n",
      "3265        348    431        1     84  7.000000e-41    156.239  RT_IgA_12N   \n",
      "3319        327    413        1     87  1.000000e-42    161.779  RT_IgA_12N   \n",
      "3647        375    461        1     87  2.000000e-42    161.779  RT_IgA_12N   \n",
      "3907        351    428        1     78  1.000000e-37    145.159  RT_IgA_08N   \n",
      "4301        345    423        1     79  4.000000e-38    147.006  RT_IgG_12N   \n",
      "4389        340    426        1     87  1.000000e-42    161.779  RT_IgA_12N   \n",
      "5023        321    392        1     72  3.000000e-34    134.079  RT_IgA_12N   \n",
      "5196        337    408        1     72  3.000000e-34    134.079  RT_IgA_08N   \n",
      "5316        351    433        1     83  3.000000e-40    154.392  RT_IgA_12N   \n",
      "5475        340    423        1     84  7.000000e-41    156.239  RT_IgA_12N   \n",
      "5600        362    445        1     84  7.000000e-41    156.239  RT_IgA_12N   \n",
      "6078        339    425        1     87  1.000000e-42    161.779  RT_IgA_12N   \n",
      "6197        315    393        1     79  4.000000e-38    147.006  RT_IgG_12N   \n",
      "7934        348    434        1     87  2.000000e-42    161.779  RT_IgA_08N   \n",
      "8638        349    426        1     78  1.000000e-37    145.159  RT_IgA_08N   \n",
      "8834        352    438        1     87  2.000000e-42    161.779  RT_IgA_12N   \n",
      "9916        351    437        1     87  2.000000e-42    161.779  RT_IgA_12N   \n",
      "10481       327    405        1     79  4.000000e-38    147.006  RT_IgG_08N   \n",
      "10577       336    407        1     72  3.000000e-34    134.079  RT_IgA_08N   \n",
      "11063       331    417        1     87  1.000000e-42    161.779  RT_IgA_12N   \n",
      "11247       345    428        1     84  7.000000e-41    156.239  RT_IgA_08N   \n",
      "...         ...    ...      ...    ...           ...        ...         ...   \n",
      "376330      348    417        1     70  4.000000e-33    130.386  RT_IgG_08N   \n",
      "376412      342    419        1     78  1.000000e-37    145.159  RT_IgA_08N   \n",
      "376540      199    274        1     76  2.000000e-36    141.466  RT_IgA_12N   \n",
      "377384      327    413        1     87  2.000000e-41    158.086  RT_IgA_12N   \n",
      "377496      343    426        1     84  7.000000e-41    156.239  RT_IgA_12N   \n",
      "378048      358    429        1     72  3.000000e-34    134.079  RT_IgA_12N   \n",
      "378132      339    425        1     87  1.000000e-42    161.779  RT_IgA_12N   \n",
      "378444      187    291        1    106  5.000000e-51    189.479  RT_IgA_12N   \n",
      "378882      336    419        1     84  7.000000e-41    156.239  RT_IgA_12N   \n",
      "379292      203    278        1     76  2.000000e-36    141.466  RT_IgA_08N   \n",
      "379920      346    432        1     87  1.000000e-42    161.779  RT_IgA_12N   \n",
      "380125      184    286        1    103  2.000000e-51    191.325  RT_IgA_12N   \n",
      "380398      336    422        1     87  2.000000e-41    158.086  RT_IgA_12N   \n",
      "380953      354    432        1     79  5.000000e-37    143.312  RT_IgG_12N   \n",
      "381681      184    286        1    103  2.000000e-51    191.325  RT_IgA_12N   \n",
      "381766      184    287        1    104  5.000000e-52    193.172  RT_IgA_12N   \n",
      "381772      375    453        1     79  4.000000e-38    147.006  RT_IgG_12N   \n",
      "382078      339    422        1     84  9.000000e-40    152.546  RT_IgA_12N   \n",
      "382515      343    414        1     72  3.000000e-34    134.079  RT_IgA_12N   \n",
      "382542      365    451        1     87  2.000000e-42    161.779  RT_IgA_12N   \n",
      "382609      354    440        1     87  2.000000e-42    161.779  RT_IgA_12N   \n",
      "382687      357    440        1     84  9.000000e-40    152.546  RT_IgA_08N   \n",
      "383157      342    426        1     85  2.000000e-41    158.086  RT_IgA_12N   \n",
      "383334      352    435        1     84  7.000000e-41    156.239  RT_IgA_12N   \n",
      "383440      199    274        1     76  2.000000e-36    141.466  RT_IgA_12N   \n",
      "383793      349    425        2     78  2.000000e-35    137.772  RT_IgA_08N   \n",
      "384809      349    432        1     84  7.000000e-41    156.239  RT_IgA_12N   \n",
      "385458      366    452        1     87  2.000000e-42    161.779  RT_IgA_12N   \n",
      "385570      348    434        1     87  2.000000e-42    161.779  RT_IgA_12N   \n",
      "386053      327    413        1     87  1.000000e-42    161.779  RT_IgA_12N   \n",
      "\n",
      "       primer_isotype blast_isotype  \n",
      "293               IGA           IGM  \n",
      "416               IGA           IGD  \n",
      "495               IGA           IGM  \n",
      "1305              IGA           IGM  \n",
      "1306              IGG           IGA  \n",
      "2450              IGA           IGM  \n",
      "2518              IGG           IGD  \n",
      "2846              IGA           IGM  \n",
      "3080              IGG           IGA  \n",
      "3265              IGA           IGG  \n",
      "3319              IGA           IGM  \n",
      "3647              IGA           IGM  \n",
      "3907              IGA           IGD  \n",
      "4301              IGG           IGA  \n",
      "4389              IGA           IGM  \n",
      "5023              IGA           IGD  \n",
      "5196              IGA           IGD  \n",
      "5316              IGA           IGG  \n",
      "5475              IGA           IGG  \n",
      "5600              IGA           IGG  \n",
      "6078              IGA           IGM  \n",
      "6197              IGG           IGA  \n",
      "7934              IGA           IGM  \n",
      "8638              IGA           IGD  \n",
      "8834              IGA           IGM  \n",
      "9916              IGA           IGM  \n",
      "10481             IGG           IGA  \n",
      "10577             IGA           IGD  \n",
      "11063             IGA           IGM  \n",
      "11247             IGA           IGG  \n",
      "...               ...           ...  \n",
      "376330            IGG           IGD  \n",
      "376412            IGA           IGD  \n",
      "376540            IGA           IGD  \n",
      "377384            IGA           IGM  \n",
      "377496            IGA           IGG  \n",
      "378048            IGA           IGD  \n",
      "378132            IGA           IGM  \n",
      "378444            IGA           IGG  \n",
      "378882            IGA           IGG  \n",
      "379292            IGA           IGD  \n",
      "379920            IGA           IGM  \n",
      "380125            IGA           IGM  \n",
      "380398            IGA           IGM  \n",
      "380953            IGG           IGA  \n",
      "381681            IGA           IGM  \n",
      "381766            IGA           IGM  \n",
      "381772            IGG           IGA  \n",
      "382078            IGA           IGG  \n",
      "382515            IGA           IGD  \n",
      "382542            IGA           IGM  \n",
      "382609            IGA           IGM  \n",
      "382687            IGA           IGG  \n",
      "383157            IGA           IGM  \n",
      "383334            IGA           IGG  \n",
      "383440            IGA           IGD  \n",
      "383793            IGA           IGD  \n",
      "384809            IGA           IGG  \n",
      "385458            IGA           IGM  \n",
      "385570            IGA           IGM  \n",
      "386053            IGA           IGM  \n",
      "\n",
      "[1414 rows x 17 columns]\n"
     ]
    },
    {
     "ename": "AttributeError",
     "evalue": "'NoneType' object has no attribute 'shape'",
     "output_type": "error",
     "traceback": [
      "\u001b[0;31m---------------------------------------------------------------------------\u001b[0m",
      "\u001b[0;31mAttributeError\u001b[0m                            Traceback (most recent call last)",
      "\u001b[0;32m<ipython-input-59-c88b9b610547>\u001b[0m in \u001b[0;36m<module>\u001b[0;34m()\u001b[0m\n\u001b[1;32m     14\u001b[0m \u001b[0misotypes\u001b[0m\u001b[0;34m.\u001b[0m\u001b[0mhead\u001b[0m\u001b[0;34m(\u001b[0m\u001b[0;34m)\u001b[0m\u001b[0;34m\u001b[0m\u001b[0m\n\u001b[1;32m     15\u001b[0m \u001b[0;34m\u001b[0m\u001b[0m\n\u001b[0;32m---> 16\u001b[0;31m \u001b[0mprint\u001b[0m\u001b[0;34m(\u001b[0m\u001b[0misotypes\u001b[0m\u001b[0;34m.\u001b[0m\u001b[0mquery\u001b[0m\u001b[0;34m(\u001b[0m\u001b[0;34m'blast_isotype != primer_isotype'\u001b[0m\u001b[0;34m)\u001b[0m\u001b[0;34m)\u001b[0m\u001b[0;34m.\u001b[0m\u001b[0mshape\u001b[0m\u001b[0;34m\u001b[0m\u001b[0m\n\u001b[0m",
      "\u001b[0;31mAttributeError\u001b[0m: 'NoneType' object has no attribute 'shape'"
     ]
    }
   ],
   "source": [
    "isotypes = pd.read_table('/mnt/data/isotype_blast/BLAST_output/blastsummary_C_table_only.txt', names=names)\n",
    "print(isotypes.shape)\n",
    "isotypes.head()\n",
    "\n",
    "isotypes.head()['query_id'].str.extract('PRCONS=([a-zA-Z0-9_]+)\\|', expand=False)\n",
    "\n",
    "isotypes['primer'] = isotypes['query_id'].str.extract('PRCONS=([a-zA-Z0-9_]+)\\|', expand=False)\n",
    "isotypes.head()\n",
    "\n",
    "isotypes['primer_isotype'] = isotypes.primer.str.split('_').str[1].str.upper()\n",
    "isotypes.head()\n",
    "\n",
    "isotypes['blast_isotype'] = isotypes['subject_id'].str.split('*').str[0].str.rstrip('0123456789').str.replace('H', '')\n",
    "isotypes.head()\n",
    "\n",
    "print(isotypes.query('blast_isotype != primer_isotype')).shape"
   ]
  },
  {
   "cell_type": "code",
   "execution_count": 16,
   "metadata": {},
   "outputs": [
    {
     "data": {
      "text/plain": [
       "['',\n",
       " '/home/ubuntu/anaconda/lib/python36.zip',\n",
       " '/home/ubuntu/anaconda/lib/python3.6',\n",
       " '/home/ubuntu/anaconda/lib/python3.6/lib-dynload',\n",
       " '/home/ubuntu/anaconda/lib/python3.6/site-packages',\n",
       " '/home/ubuntu/anaconda/lib/python3.6/site-packages/cycler-0.10.0-py3.6.egg',\n",
       " '/home/ubuntu/anaconda/lib/python3.6/site-packages/IPython/extensions',\n",
       " '/home/ubuntu/.ipython']"
      ]
     },
     "execution_count": 16,
     "metadata": {},
     "output_type": "execute_result"
    }
   ],
   "source": [
    "sys.pa"
   ]
  },
  {
   "cell_type": "markdown",
   "metadata": {},
   "source": [
    "## Felix's commands\n",
    "\n",
    "```\n",
    " \"isotype_blast_evalue\":\t\t\t\t\t1,\n",
    " \"isotype_blast_word_size\":\t\t\t\t\t7,\n",
    " \"isotype_blast_gapopen\":\t\t\t\t\t10,\n",
    " \"isotype_blast_gapextend\":\t\t\t\t\t2,\n",
    " \"isotype_blast_penalty\":\t\t\t\t\t-3,\n",
    " \"isotype_blast_reward\":\t\t\t\t\t1,\n",
    "\n",
    "export BLASTDB={BLASTN_DB}:$BLASTDB &&\\\n",
    "           {BLASTN_BIN} -db {isotype_blast_db} -query {input_on_scratch} -outfmt 5 -out {output_on_scratch} \\\n",
    "           -evalue {isotype_blast_evalue} -word_size {isotype_blast_word_size} \\\n",
    "           -gapopen {isotype_blast_gapopen} -gapextend {isotype_blast_gapextend} \\\n",
    "           -penalty {isotype_blast_penalty} -reward {isotype_blast_reward} -num_threads 1\n",
    "```"
   ]
  },
  {
   "cell_type": "code",
   "execution_count": null,
   "metadata": {},
   "outputs": [],
   "source": [
    "mkdir -p /mnt/data/isotype_blast_felix/BLAST_output"
   ]
  },
  {
   "cell_type": "code",
   "execution_count": 52,
   "metadata": {},
   "outputs": [
    {
     "name": "stdout",
     "output_type": "stream",
     "text": [
      "mkdir: cannot create directory ‘/mnt/data/isotype_blast//BLAST_output’: File exists\n",
      "/mnt/data/anaconda/bin//blastn -db /mnt/data/bracer/resources/Hsap/igblast_dbs/BCR_C_all.fa -evalue 1 -word_size 7 -gapopen 10 -gapextend 2 -penalty -3 -reward 1 -num_threads 16 -outfmt 5 -query /mnt/data/changeo/BX-final_collapse-unique_atleast-6.fasta\n"
     ]
    }
   ],
   "source": [
    "isotype_blast_evalue = 1\n",
    "isotype_blast_word_size = 7\n",
    "isotype_blast_gapopen = 10\n",
    "isotype_blast_gapextend = 2\n",
    "isotype_blast_penalty = -3\n",
    "isotype_blast_reward = 1\n",
    "\n",
    "command = [blast, '-db', database, '-evalue', isotype_blast_evalue, \n",
    "           '-word_size', isotype_blast_word_size,\n",
    "           '-gapopen', isotype_blast_gapopen,\n",
    "           '-gapextend', isotype_blast_gapextend,\n",
    "           '-penalty', isotype_blast_penalty,\n",
    "           '-reward', isotype_blast_reward,\n",
    "           '-num_threads', 16,\n",
    "           #           '-num_alignments', '1', \n",
    "           '-outfmt', '5', '-query', \n",
    "                      fasta]\n",
    "\n",
    "output_dir = '/mnt/data/isotype_blast_felix/BLAST_output'\n",
    "command = [str(x) for x in command]\n",
    "\n",
    "blast_out = \"{}/BLAST_output/{}_{}_felix.xml\".format(output_dir, \n",
    "                                        cell_name, locus)\n",
    "!mkdir $(dirname $blast_out)\n",
    "\n",
    "print(' '.join(command))\n",
    "with open(blast_out, 'w') as out:\n",
    "    subprocess.check_call(command, stdout=out)"
   ]
  },
  {
   "cell_type": "code",
   "execution_count": 53,
   "metadata": {},
   "outputs": [
    {
     "name": "stdout",
     "output_type": "stream",
     "text": [
      "blastsummary_C_table_only.txt  BX_BCR_C.xml    BX_C.xml\n",
      "blastsummary_C.txt             BX_C_felix.xml\n"
     ]
    }
   ],
   "source": [
    "ls /mnt/data/isotype_blast/BLAST_output/"
   ]
  },
  {
   "cell_type": "code",
   "execution_count": 54,
   "metadata": {},
   "outputs": [
    {
     "name": "stdout",
     "output_type": "stream",
     "text": [
      "total 7.3G\n",
      "drwxrwxr-x 2 ubuntu ubuntu 4.0K Apr 25 00:41 .\n",
      "drwxrwxr-x 3 ubuntu ubuntu 4.0K Apr 24 21:40 ..\n",
      "-rw-rw-r-- 1 ubuntu ubuntu  43M Apr 25 00:02 blastsummary_C_table_only.txt\n",
      "-rw-rw-r-- 1 ubuntu ubuntu 126M Apr 25 00:46 blastsummary_C.txt\n",
      "-rw-rw-r-- 1 ubuntu ubuntu 689M Apr 24 23:48 BX_BCR_C.xml\n",
      "-rw-rw-r-- 1 ubuntu ubuntu 2.9G Apr 25 00:24 BX_C_felix.xml\n",
      "-rw-rw-r-- 1 ubuntu ubuntu 689M Apr 24 22:16 BX_C.xml\n",
      "-rw-rw-r-- 1 ubuntu ubuntu 2.9G Apr 25 00:41 BX-felix_BCR_C.xml\n"
     ]
    }
   ],
   "source": [
    "! cp '/mnt/data/isotype_blast/BLAST_output/BX_C_felix.xml' '/mnt/data/isotype_blast/BLAST_output/BX-felix_BCR_C.xml'\n",
    "\n",
    "\n",
    "loci = \"C\"\n",
    "output_dir = '/mnt/data/isotype_blast/'\n",
    "cell_name = 'BX-felix'\n",
    "species = 'Mmus'\n",
    "assembled_file = False\n",
    "\n",
    "parse_BLAST(loci, output_dir, cell_name, species, assembled_file)\n",
    "! ls -lha /mnt/data/isotype_blast/BLAST_output/"
   ]
  },
  {
   "cell_type": "code",
   "execution_count": 56,
   "metadata": {},
   "outputs": [],
   "source": [
    "! grep -P '^C(?! segment)' /mnt/data/isotype_blast/BLAST_output/blastsummary_C.txt  > /mnt/data/isotype_blast/BLAST_output/felix-blastsummary_C_table_only.txt"
   ]
  },
  {
   "cell_type": "code",
   "execution_count": 60,
   "metadata": {},
   "outputs": [
    {
     "name": "stdout",
     "output_type": "stream",
     "text": [
      "(397604, 14)\n",
      "(110658, 17)\n"
     ]
    }
   ],
   "source": [
    "isotypes_felix = pd.read_table('/mnt/data/isotype_blast/BLAST_output/felix-blastsummary_C_table_only.txt', names=names)\n",
    "print(isotypes_felix.shape)\n",
    "isotypes_felix.head()['query_id'].str.extract('PRCONS=([a-zA-Z0-9_]+)\\|', expand=False)\n",
    "\n",
    "isotypes_felix['primer'] = isotypes_felix['query_id'].str.extract('PRCONS=([a-zA-Z0-9_]+)\\|', expand=False)\n",
    "\n",
    "isotypes_felix['primer_isotype'] = isotypes_felix.primer.str.split('_').str[1].str.upper()\n",
    "\n",
    "isotypes_felix['blast_isotype'] = isotypes_felix['subject_id'].str.split('*').str[0].str.rstrip('0123456789').str.replace('H', '')\n",
    "\n",
    "print(isotypes_felix.query('blast_isotype != primer_isotype').shape)"
   ]
  },
  {
   "cell_type": "code",
   "execution_count": null,
   "metadata": {},
   "outputs": [],
   "source": []
  }
 ],
 "metadata": {
  "kernelspec": {
   "display_name": "Python 3",
   "language": "python",
   "name": "python3"
  },
  "language_info": {
   "codemirror_mode": {
    "name": "ipython",
    "version": 3
   },
   "file_extension": ".py",
   "mimetype": "text/x-python",
   "name": "python",
   "nbconvert_exporter": "python",
   "pygments_lexer": "ipython3",
   "version": "3.6.4"
  }
 },
 "nbformat": 4,
 "nbformat_minor": 2
}
